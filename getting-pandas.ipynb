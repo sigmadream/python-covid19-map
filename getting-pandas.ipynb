{
 "cells": [
  {
   "cell_type": "code",
   "execution_count": 1,
   "id": "da18045d",
   "metadata": {},
   "outputs": [],
   "source": [
    "import pandas as pd"
   ]
  },
  {
   "cell_type": "code",
   "execution_count": 12,
   "id": "a8fc460e",
   "metadata": {},
   "outputs": [],
   "source": [
    "daily_df = pd.read_csv(\"data/daily_report.csv\")\n",
    "# daily_df = daily_df[[\"Confirmed\", \"Deaths\", \"Recovered\"]].sum().reset_index(name=\"count\")\n",
    "# daily_df = daily_df.rename(columns={\"index\": \"condition\"})"
   ]
  },
  {
   "cell_type": "code",
   "execution_count": 15,
   "id": "b1eccb61",
   "metadata": {},
   "outputs": [
    {
     "name": "stdout",
     "output_type": "stream",
     "text": [
      "<class 'pandas.core.frame.DataFrame'>\n",
      "RangeIndex: 3983 entries, 0 to 3982\n",
      "Data columns (total 14 columns):\n",
      " #   Column               Non-Null Count  Dtype  \n",
      "---  ------               --------------  -----  \n",
      " 0   FIPS                 3266 non-null   float64\n",
      " 1   Admin2               3271 non-null   object \n",
      " 2   Province_State       3812 non-null   object \n",
      " 3   Country_Region       3983 non-null   object \n",
      " 4   Last_Update          3983 non-null   object \n",
      " 5   Lat                  3895 non-null   float64\n",
      " 6   Long_                3895 non-null   float64\n",
      " 7   Confirmed            3983 non-null   int64  \n",
      " 8   Deaths               3983 non-null   int64  \n",
      " 9   Recovered            706 non-null    float64\n",
      " 10  Active               705 non-null    float64\n",
      " 11  Combined_Key         3983 non-null   object \n",
      " 12  Incident_Rate        3895 non-null   float64\n",
      " 13  Case_Fatality_Ratio  3942 non-null   float64\n",
      "dtypes: float64(7), int64(2), object(5)\n",
      "memory usage: 435.8+ KB\n"
     ]
    }
   ],
   "source": [
    "daily_df.info()"
   ]
  },
  {
   "cell_type": "code",
   "execution_count": 17,
   "id": "4654ac04",
   "metadata": {},
   "outputs": [
    {
     "data": {
      "text/html": [
       "<div>\n",
       "<style scoped>\n",
       "    .dataframe tbody tr th:only-of-type {\n",
       "        vertical-align: middle;\n",
       "    }\n",
       "\n",
       "    .dataframe tbody tr th {\n",
       "        vertical-align: top;\n",
       "    }\n",
       "\n",
       "    .dataframe thead th {\n",
       "        text-align: right;\n",
       "    }\n",
       "</style>\n",
       "<table border=\"1\" class=\"dataframe\">\n",
       "  <thead>\n",
       "    <tr style=\"text-align: right;\">\n",
       "      <th></th>\n",
       "      <th>Country_Region</th>\n",
       "      <th>Confirmed</th>\n",
       "      <th>Deaths</th>\n",
       "      <th>Recovered</th>\n",
       "    </tr>\n",
       "  </thead>\n",
       "  <tbody>\n",
       "    <tr>\n",
       "      <th>0</th>\n",
       "      <td>Afghanistan</td>\n",
       "      <td>65728</td>\n",
       "      <td>2802</td>\n",
       "      <td>56035.0</td>\n",
       "    </tr>\n",
       "    <tr>\n",
       "      <th>1</th>\n",
       "      <td>Albania</td>\n",
       "      <td>132209</td>\n",
       "      <td>2444</td>\n",
       "      <td>128732.0</td>\n",
       "    </tr>\n",
       "    <tr>\n",
       "      <th>2</th>\n",
       "      <td>Algeria</td>\n",
       "      <td>126860</td>\n",
       "      <td>3418</td>\n",
       "      <td>88346.0</td>\n",
       "    </tr>\n",
       "    <tr>\n",
       "      <th>3</th>\n",
       "      <td>Andorra</td>\n",
       "      <td>13569</td>\n",
       "      <td>127</td>\n",
       "      <td>13234.0</td>\n",
       "    </tr>\n",
       "    <tr>\n",
       "      <th>4</th>\n",
       "      <td>Angola</td>\n",
       "      <td>32441</td>\n",
       "      <td>725</td>\n",
       "      <td>26778.0</td>\n",
       "    </tr>\n",
       "    <tr>\n",
       "      <th>...</th>\n",
       "      <td>...</td>\n",
       "      <td>...</td>\n",
       "      <td>...</td>\n",
       "      <td>...</td>\n",
       "    </tr>\n",
       "    <tr>\n",
       "      <th>187</th>\n",
       "      <td>Vietnam</td>\n",
       "      <td>5275</td>\n",
       "      <td>43</td>\n",
       "      <td>2721.0</td>\n",
       "    </tr>\n",
       "    <tr>\n",
       "      <th>188</th>\n",
       "      <td>West Bank and Gaza</td>\n",
       "      <td>305201</td>\n",
       "      <td>3459</td>\n",
       "      <td>297201.0</td>\n",
       "    </tr>\n",
       "    <tr>\n",
       "      <th>189</th>\n",
       "      <td>Yemen</td>\n",
       "      <td>6658</td>\n",
       "      <td>1307</td>\n",
       "      <td>3245.0</td>\n",
       "    </tr>\n",
       "    <tr>\n",
       "      <th>190</th>\n",
       "      <td>Zambia</td>\n",
       "      <td>93201</td>\n",
       "      <td>1268</td>\n",
       "      <td>91156.0</td>\n",
       "    </tr>\n",
       "    <tr>\n",
       "      <th>191</th>\n",
       "      <td>Zimbabwe</td>\n",
       "      <td>38682</td>\n",
       "      <td>1586</td>\n",
       "      <td>36453.0</td>\n",
       "    </tr>\n",
       "  </tbody>\n",
       "</table>\n",
       "<p>192 rows × 4 columns</p>\n",
       "</div>"
      ],
      "text/plain": [
       "         Country_Region  Confirmed  Deaths  Recovered\n",
       "0           Afghanistan      65728    2802    56035.0\n",
       "1               Albania     132209    2444   128732.0\n",
       "2               Algeria     126860    3418    88346.0\n",
       "3               Andorra      13569     127    13234.0\n",
       "4                Angola      32441     725    26778.0\n",
       "..                  ...        ...     ...        ...\n",
       "187             Vietnam       5275      43     2721.0\n",
       "188  West Bank and Gaza     305201    3459   297201.0\n",
       "189               Yemen       6658    1307     3245.0\n",
       "190              Zambia      93201    1268    91156.0\n",
       "191            Zimbabwe      38682    1586    36453.0\n",
       "\n",
       "[192 rows x 4 columns]"
      ]
     },
     "execution_count": 17,
     "metadata": {},
     "output_type": "execute_result"
    }
   ],
   "source": [
    "daily_df = daily_df[[\"Country_Region\", \"Confirmed\", \"Deaths\", \"Recovered\"]]\n",
    "daily_df = daily_df.groupby(\"Country_Region\").sum().reset_index()\n",
    "daily_df"
   ]
  },
  {
   "cell_type": "code",
   "execution_count": null,
   "id": "7f74abc3",
   "metadata": {},
   "outputs": [],
   "source": []
  }
 ],
 "metadata": {
  "kernelspec": {
   "display_name": "Python 3",
   "language": "python",
   "name": "python3"
  },
  "language_info": {
   "codemirror_mode": {
    "name": "ipython",
    "version": 3
   },
   "file_extension": ".py",
   "mimetype": "text/x-python",
   "name": "python",
   "nbconvert_exporter": "python",
   "pygments_lexer": "ipython3",
   "version": "3.9.5"
  }
 },
 "nbformat": 4,
 "nbformat_minor": 5
}
